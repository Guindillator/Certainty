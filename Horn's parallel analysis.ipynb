{
 "cells": [
  {
   "cell_type": "code",
   "execution_count": 2,
   "metadata": {
    "scrolled": false
   },
   "outputs": [],
   "source": [
    "library(ggbiplot)\n",
    "library(factoextra)\n",
    "library(corrplot)\n",
    "library(NbClust)\n",
    "library(FunCluster)\n",
    "library(pca3d)\n",
    "library(e1071)\n",
    "library(poLCA)\n",
    "library(reshape2)\n",
    "library(psych)\n",
    "library(DescTools)\n",
    "library(paran)"
   ]
  },
  {
   "cell_type": "code",
   "execution_count": 3,
   "metadata": {
    "scrolled": false
   },
   "outputs": [],
   "source": [
    "s123 <- read.csv(\"C:\\\\Users\\\\marpr\\\\Desktop\\\\docto\\\\respuestas-s123 - copia.csv\", sep=',')\n",
    "s123 <- data.frame(s123)\n",
    "s1 <- s123[,1:4]\n",
    "s3 <- s123[,5:7]\n",
    "s2 <- s123[,8:9]\n",
    "s1 = data.frame(rank(s1$s1.High), rank(s1$s1.Medium.High), rank(s1$s1.Medium.Low), rank(s1$s1.Low))\n",
    "s3 = data.frame(rank(s3$S3.1), rank(s3$S3.2), rank(s3$S3.3))\n",
    "s2 = data.frame(rank(s2$s2.Relatively.High), rank(s2$s2.Relatively.Low))"
   ]
  },
  {
   "cell_type": "code",
   "execution_count": 10,
   "metadata": {
    "scrolled": false
   },
   "outputs": [
    {
     "name": "stdout",
     "output_type": "stream",
     "text": [
      "\n",
      "Using eigendecomposition of correlation matrix.\n",
      "Computing: 20%  40%  60%  80%  100%\n",
      "\n",
      "\n",
      "Results of Horn's Parallel Analysis for factor retention\n",
      "45 iterations, using the mean estimate\n",
      "\n",
      "-------------------------------------------------- \n",
      "Factor      Adjusted    Unadjusted    Estimated \n",
      "            Eigenvalue  Eigenvalue    Bias \n",
      "-------------------------------------------------- \n",
      "No components passed. \n",
      "-------------------------------------------------- \n",
      "1           1.405049    1.876046      0.470996\n",
      "2           0.291734    0.429492      0.137757\n",
      "3          -0.066223   -0.13738     -0.07115\n",
      "4           0.034407   -0.20447     -0.23887\n",
      "-------------------------------------------------- \n",
      "\n",
      "Adjusted eigenvalues > 0 indicate dimensions to retain.\n",
      "(2 factors    retained)\n",
      "\n"
     ]
    },
    {
     "data": {
      "image/png": "[encoded data removed]",
      "text/plain": [
       "Plot with title \"Parallel Analysis\""
      ]
     },
     "metadata": {},
     "output_type": "display_data"
    }
   ],
   "source": [
    "# png('S1_parallel.png', width = 5,\n",
    "#   height    = 5,\n",
    "#   units     = \"in\",\n",
    "#   res       = 1000,\n",
    "#   pointsize = 8)\n",
    "\n",
    "paran(s1, iterations = 45, centile = 0, quietly = FALSE, \n",
    "    status = TRUE, all = TRUE, cfa = TRUE, graph = TRUE, color = TRUE, \n",
    "    col = c(\"black\", \"red\", \"blue\"), lty = c(1, 2, 3), lwd = 1, legend = TRUE, \n",
    "    file = \"\", width = 2000, height = 2000, grdevice = \"png\", seed = 0)\n",
    "\n",
    "# dev.off()"
   ]
  },
  {
   "cell_type": "code",
   "execution_count": 11,
   "metadata": {
    "scrolled": false
   },
   "outputs": [
    {
     "name": "stdout",
     "output_type": "stream",
     "text": [
      "\n",
      "Using eigendecomposition of correlation matrix.\n",
      "Computing: 20%  40%  60%  80%  100%\n",
      "\n",
      "\n",
      "Results of Horn's Parallel Analysis for factor retention\n",
      "45 iterations, using the mean estimate\n",
      "\n",
      "-------------------------------------------------- \n",
      "Factor      Adjusted    Unadjusted    Estimated \n",
      "            Eigenvalue  Eigenvalue    Bias \n",
      "-------------------------------------------------- \n",
      "No components passed. \n",
      "-------------------------------------------------- \n",
      "1           1.751484    1.924849      0.173364\n",
      "2           0.089111   -0.02462     -0.11373\n",
      "-------------------------------------------------- \n",
      "\n",
      "Adjusted eigenvalues > 0 indicate dimensions to retain.\n",
      "(2 factors    retained)\n",
      "\n"
     ]
    },
    {
     "data": {
      "image/png": "[encoded data removed]",
      "text/plain": [
       "Plot with title \"Parallel Analysis\""
      ]
     },
     "metadata": {},
     "output_type": "display_data"
    }
   ],
   "source": [
    "# png('S2_parallel.png', width = 5,\n",
    "#   height    = 5,\n",
    "#   units     = \"in\",\n",
    "#   res       = 1000,\n",
    "#   pointsize = 8)\n",
    "\n",
    "paran(s2, iterations = 45, centile = 0, quietly = FALSE, \n",
    "    status = TRUE, all = TRUE, cfa = TRUE, graph = TRUE, color = TRUE, \n",
    "    col = c(\"black\", \"red\", \"blue\"), lty = c(1, 2, 3), lwd = 1, legend = TRUE, \n",
    "    file = \"\", width = 2000, height = 2000, grdevice = \"png\", seed = 0)\n",
    "\n",
    "# dev.off()"
   ]
  },
  {
   "cell_type": "code",
   "execution_count": 12,
   "metadata": {
    "scrolled": false
   },
   "outputs": [
    {
     "name": "stdout",
     "output_type": "stream",
     "text": [
      "\n",
      "Using eigendecomposition of correlation matrix.\n",
      "Computing: 20%  40%  60%  80%  100%\n",
      "\n",
      "\n",
      "Results of Horn's Parallel Analysis for factor retention\n",
      "45 iterations, using the mean estimate\n",
      "\n",
      "-------------------------------------------------- \n",
      "Factor      Adjusted    Unadjusted    Estimated \n",
      "            Eigenvalue  Eigenvalue    Bias \n",
      "-------------------------------------------------- \n",
      "No components passed. \n",
      "-------------------------------------------------- \n",
      "1           1.387699    1.677881      0.290181\n",
      "2           0.268262    0.281395      0.013132\n",
      "3          -0.025640   -0.20254     -0.17690\n",
      "-------------------------------------------------- \n",
      "\n",
      "Adjusted eigenvalues > 0 indicate dimensions to retain.\n",
      "(2 factors    retained)\n",
      "\n"
     ]
    },
    {
     "data": {
      "image/png": "[encoded data removed]",
      "text/plain": [
       "Plot with title \"Parallel Analysis\""
      ]
     },
     "metadata": {},
     "output_type": "display_data"
    }
   ],
   "source": [
    "# png('S3_parallel.png', width = 5,\n",
    "#   height    = 5,\n",
    "#   units     = \"in\",\n",
    "#   res       = 1000,\n",
    "#   pointsize = 8)\n",
    "\n",
    "paran(s3, iterations = 45, centile = 0, quietly = FALSE, \n",
    "    status = TRUE, all = TRUE, cfa = TRUE, graph = TRUE, color = TRUE, \n",
    "    col = c(\"black\", \"red\", \"blue\"), lty = c(1, 2, 3), lwd = 1, legend = TRUE, \n",
    "    file = \"\", width = 2000, height = 2000, grdevice = \"png\", seed = 0)\n",
    "\n",
    "# dev.off()"
   ]
  },
  {
   "cell_type": "code",
   "execution_count": null,
   "metadata": {},
   "outputs": [],
   "source": []
  }
 ],
 "metadata": {
  "kernelspec": {
   "display_name": "R",
   "language": "R",
   "name": "ir"
  },
  "language_info": {
   "codemirror_mode": "r",
   "file_extension": ".r",
   "mimetype": "text/x-r-source",
   "name": "R",
   "pygments_lexer": "r",
   "version": "3.5.1"
  }
 },
 "nbformat": 4,
 "nbformat_minor": 2
}
